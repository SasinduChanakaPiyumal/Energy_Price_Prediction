{
 "cells": [
  {
   "cell_type": "code",
   "execution_count": 30,
   "id": "5c265265",
   "metadata": {},
   "outputs": [],
   "source": [
    "import streamlit as st\n",
    "import pandas as pd\n",
    "import numpy as np\n",
    "import pickle"
   ]
  },
  {
   "cell_type": "markdown",
   "id": "f6a14eba",
   "metadata": {},
   "source": [
    "### Load the trained model"
   ]
  },
  {
   "cell_type": "code",
   "execution_count": 31,
   "id": "93a9cdd0",
   "metadata": {},
   "outputs": [],
   "source": [
    "with open('energypredict.pkl', 'rb') as f:\n",
    "    model = pickle.load(f)"
   ]
  },
  {
   "cell_type": "markdown",
   "id": "28fb7843",
   "metadata": {},
   "source": [
    "### Streamlit application title"
   ]
  },
  {
   "cell_type": "code",
   "execution_count": 32,
   "id": "eb36aa9a",
   "metadata": {},
   "outputs": [
    {
     "name": "stderr",
     "output_type": "stream",
     "text": [
      "2024-10-29 11:24:45.913 Thread 'MainThread': missing ScriptRunContext! This warning can be ignored when running in bare mode.\n",
      "2024-10-29 11:24:45.922 Thread 'MainThread': missing ScriptRunContext! This warning can be ignored when running in bare mode.\n"
     ]
    },
    {
     "data": {
      "text/plain": [
       "DeltaGenerator()"
      ]
     },
     "execution_count": 32,
     "metadata": {},
     "output_type": "execute_result"
    }
   ],
   "source": [
    "st.title('Energy Price Prediction App - Spain')"
   ]
  },
  {
   "cell_type": "markdown",
   "id": "33d37f2a",
   "metadata": {},
   "source": [
    "### Instructions"
   ]
  },
  {
   "cell_type": "code",
   "execution_count": 33,
   "id": "1381f225",
   "metadata": {},
   "outputs": [
    {
     "name": "stderr",
     "output_type": "stream",
     "text": [
      "2024-10-29 11:24:45.984 Thread 'MainThread': missing ScriptRunContext! This warning can be ignored when running in bare mode.\n",
      "2024-10-29 11:24:45.985 Thread 'MainThread': missing ScriptRunContext! This warning can be ignored when running in bare mode.\n",
      "2024-10-29 11:24:45.995 Thread 'MainThread': missing ScriptRunContext! This warning can be ignored when running in bare mode.\n",
      "2024-10-29 11:24:45.997 Thread 'MainThread': missing ScriptRunContext! This warning can be ignored when running in bare mode.\n"
     ]
    }
   ],
   "source": [
    "st.write(\"\"\"\n",
    "This app predicts the **Energy Price - Spain** based on input parameters.\n",
    "Enter the features below:\n",
    "\"\"\")"
   ]
  },
  {
   "cell_type": "markdown",
   "id": "47e2cbb8",
   "metadata": {},
   "source": [
    "### Input fields for features"
   ]
  },
  {
   "cell_type": "code",
   "execution_count": 34,
   "id": "20cedd6e",
   "metadata": {},
   "outputs": [
    {
     "name": "stderr",
     "output_type": "stream",
     "text": [
      "2024-10-29 11:24:46.008 Thread 'MainThread': missing ScriptRunContext! This warning can be ignored when running in bare mode.\n",
      "2024-10-29 11:24:46.012 Thread 'MainThread': missing ScriptRunContext! This warning can be ignored when running in bare mode.\n",
      "2024-10-29 11:24:46.014 Thread 'MainThread': missing ScriptRunContext! This warning can be ignored when running in bare mode.\n",
      "2024-10-29 11:24:46.025 Thread 'MainThread': missing ScriptRunContext! This warning can be ignored when running in bare mode.\n",
      "2024-10-29 11:24:46.035 Thread 'MainThread': missing ScriptRunContext! This warning can be ignored when running in bare mode.\n",
      "2024-10-29 11:24:46.036 Thread 'MainThread': missing ScriptRunContext! This warning can be ignored when running in bare mode.\n",
      "2024-10-29 11:24:46.036 Thread 'MainThread': missing ScriptRunContext! This warning can be ignored when running in bare mode.\n",
      "2024-10-29 11:24:46.037 Thread 'MainThread': missing ScriptRunContext! This warning can be ignored when running in bare mode.\n",
      "2024-10-29 11:24:46.038 Thread 'MainThread': missing ScriptRunContext! This warning can be ignored when running in bare mode.\n",
      "2024-10-29 11:24:46.038 Thread 'MainThread': missing ScriptRunContext! This warning can be ignored when running in bare mode.\n",
      "2024-10-29 11:24:46.040 Thread 'MainThread': missing ScriptRunContext! This warning can be ignored when running in bare mode.\n",
      "2024-10-29 11:24:46.041 Thread 'MainThread': missing ScriptRunContext! This warning can be ignored when running in bare mode.\n",
      "2024-10-29 11:24:46.042 Thread 'MainThread': missing ScriptRunContext! This warning can be ignored when running in bare mode.\n",
      "2024-10-29 11:24:46.042 Thread 'MainThread': missing ScriptRunContext! This warning can be ignored when running in bare mode.\n",
      "2024-10-29 11:24:46.043 Thread 'MainThread': missing ScriptRunContext! This warning can be ignored when running in bare mode.\n",
      "2024-10-29 11:24:46.045 Thread 'MainThread': missing ScriptRunContext! This warning can be ignored when running in bare mode.\n",
      "2024-10-29 11:24:46.047 Thread 'MainThread': missing ScriptRunContext! This warning can be ignored when running in bare mode.\n",
      "2024-10-29 11:24:46.049 Thread 'MainThread': missing ScriptRunContext! This warning can be ignored when running in bare mode.\n",
      "2024-10-29 11:24:46.049 Thread 'MainThread': missing ScriptRunContext! This warning can be ignored when running in bare mode.\n",
      "2024-10-29 11:24:46.050 Thread 'MainThread': missing ScriptRunContext! This warning can be ignored when running in bare mode.\n",
      "2024-10-29 11:24:46.051 Thread 'MainThread': missing ScriptRunContext! This warning can be ignored when running in bare mode.\n",
      "2024-10-29 11:24:46.051 Thread 'MainThread': missing ScriptRunContext! This warning can be ignored when running in bare mode.\n",
      "2024-10-29 11:24:46.052 Thread 'MainThread': missing ScriptRunContext! This warning can be ignored when running in bare mode.\n",
      "2024-10-29 11:24:46.053 Thread 'MainThread': missing ScriptRunContext! This warning can be ignored when running in bare mode.\n"
     ]
    }
   ],
   "source": [
    "generation_biomass = st.number_input('generation biomass')\n",
    "generation_fossil_brown_coal_lignite = st.number_input('generation fossil brown coal/lignite')\n",
    "generation_fossil_gas = st.number_input('generation fossil gas')\n",
    "generation_fossil_hard_coal = st.number_input('generation fossil hard coal')"
   ]
  },
  {
   "cell_type": "code",
   "execution_count": 35,
   "id": "1310bfa3",
   "metadata": {},
   "outputs": [
    {
     "name": "stderr",
     "output_type": "stream",
     "text": [
      "2024-10-29 11:24:46.075 Thread 'MainThread': missing ScriptRunContext! This warning can be ignored when running in bare mode.\n",
      "2024-10-29 11:24:46.075 Thread 'MainThread': missing ScriptRunContext! This warning can be ignored when running in bare mode.\n",
      "2024-10-29 11:24:46.077 Thread 'MainThread': missing ScriptRunContext! This warning can be ignored when running in bare mode.\n",
      "2024-10-29 11:24:46.079 Thread 'MainThread': missing ScriptRunContext! This warning can be ignored when running in bare mode.\n",
      "2024-10-29 11:24:46.081 Thread 'MainThread': missing ScriptRunContext! This warning can be ignored when running in bare mode.\n",
      "2024-10-29 11:24:46.081 Thread 'MainThread': missing ScriptRunContext! This warning can be ignored when running in bare mode.\n",
      "2024-10-29 11:24:46.082 Thread 'MainThread': missing ScriptRunContext! This warning can be ignored when running in bare mode.\n",
      "2024-10-29 11:24:46.082 Thread 'MainThread': missing ScriptRunContext! This warning can be ignored when running in bare mode.\n",
      "2024-10-29 11:24:46.083 Thread 'MainThread': missing ScriptRunContext! This warning can be ignored when running in bare mode.\n",
      "2024-10-29 11:24:46.084 Thread 'MainThread': missing ScriptRunContext! This warning can be ignored when running in bare mode.\n",
      "2024-10-29 11:24:46.085 Thread 'MainThread': missing ScriptRunContext! This warning can be ignored when running in bare mode.\n",
      "2024-10-29 11:24:46.085 Thread 'MainThread': missing ScriptRunContext! This warning can be ignored when running in bare mode.\n",
      "2024-10-29 11:24:46.086 Thread 'MainThread': missing ScriptRunContext! This warning can be ignored when running in bare mode.\n",
      "2024-10-29 11:24:46.087 Thread 'MainThread': missing ScriptRunContext! This warning can be ignored when running in bare mode.\n",
      "2024-10-29 11:24:46.087 Thread 'MainThread': missing ScriptRunContext! This warning can be ignored when running in bare mode.\n",
      "2024-10-29 11:24:46.087 Thread 'MainThread': missing ScriptRunContext! This warning can be ignored when running in bare mode.\n",
      "2024-10-29 11:24:46.088 Thread 'MainThread': missing ScriptRunContext! This warning can be ignored when running in bare mode.\n",
      "2024-10-29 11:24:46.089 Thread 'MainThread': missing ScriptRunContext! This warning can be ignored when running in bare mode.\n",
      "2024-10-29 11:24:46.090 Thread 'MainThread': missing ScriptRunContext! This warning can be ignored when running in bare mode.\n",
      "2024-10-29 11:24:46.090 Thread 'MainThread': missing ScriptRunContext! This warning can be ignored when running in bare mode.\n",
      "2024-10-29 11:24:46.091 Thread 'MainThread': missing ScriptRunContext! This warning can be ignored when running in bare mode.\n",
      "2024-10-29 11:24:46.092 Thread 'MainThread': missing ScriptRunContext! This warning can be ignored when running in bare mode.\n",
      "2024-10-29 11:24:46.093 Thread 'MainThread': missing ScriptRunContext! This warning can be ignored when running in bare mode.\n",
      "2024-10-29 11:24:46.094 Thread 'MainThread': missing ScriptRunContext! This warning can be ignored when running in bare mode.\n",
      "2024-10-29 11:24:46.094 Thread 'MainThread': missing ScriptRunContext! This warning can be ignored when running in bare mode.\n",
      "2024-10-29 11:24:46.095 Thread 'MainThread': missing ScriptRunContext! This warning can be ignored when running in bare mode.\n",
      "2024-10-29 11:24:46.095 Thread 'MainThread': missing ScriptRunContext! This warning can be ignored when running in bare mode.\n",
      "2024-10-29 11:24:46.095 Thread 'MainThread': missing ScriptRunContext! This warning can be ignored when running in bare mode.\n",
      "2024-10-29 11:24:46.096 Thread 'MainThread': missing ScriptRunContext! This warning can be ignored when running in bare mode.\n",
      "2024-10-29 11:24:46.096 Thread 'MainThread': missing ScriptRunContext! This warning can be ignored when running in bare mode.\n",
      "2024-10-29 11:24:46.097 Thread 'MainThread': missing ScriptRunContext! This warning can be ignored when running in bare mode.\n",
      "2024-10-29 11:24:46.097 Thread 'MainThread': missing ScriptRunContext! This warning can be ignored when running in bare mode.\n",
      "2024-10-29 11:24:46.098 Thread 'MainThread': missing ScriptRunContext! This warning can be ignored when running in bare mode.\n",
      "2024-10-29 11:24:46.099 Thread 'MainThread': missing ScriptRunContext! This warning can be ignored when running in bare mode.\n",
      "2024-10-29 11:24:46.100 Thread 'MainThread': missing ScriptRunContext! This warning can be ignored when running in bare mode.\n",
      "2024-10-29 11:24:46.100 Thread 'MainThread': missing ScriptRunContext! This warning can be ignored when running in bare mode.\n",
      "2024-10-29 11:24:46.101 Thread 'MainThread': missing ScriptRunContext! This warning can be ignored when running in bare mode.\n",
      "2024-10-29 11:24:46.101 Thread 'MainThread': missing ScriptRunContext! This warning can be ignored when running in bare mode.\n",
      "2024-10-29 11:24:46.102 Thread 'MainThread': missing ScriptRunContext! This warning can be ignored when running in bare mode.\n",
      "2024-10-29 11:24:46.102 Thread 'MainThread': missing ScriptRunContext! This warning can be ignored when running in bare mode.\n",
      "2024-10-29 11:24:46.102 Thread 'MainThread': missing ScriptRunContext! This warning can be ignored when running in bare mode.\n",
      "2024-10-29 11:24:46.103 Thread 'MainThread': missing ScriptRunContext! This warning can be ignored when running in bare mode.\n",
      "2024-10-29 11:24:46.103 Thread 'MainThread': missing ScriptRunContext! This warning can be ignored when running in bare mode.\n",
      "2024-10-29 11:24:46.104 Thread 'MainThread': missing ScriptRunContext! This warning can be ignored when running in bare mode.\n",
      "2024-10-29 11:24:46.105 Thread 'MainThread': missing ScriptRunContext! This warning can be ignored when running in bare mode.\n",
      "2024-10-29 11:24:46.106 Thread 'MainThread': missing ScriptRunContext! This warning can be ignored when running in bare mode.\n",
      "2024-10-29 11:24:46.106 Thread 'MainThread': missing ScriptRunContext! This warning can be ignored when running in bare mode.\n",
      "2024-10-29 11:24:46.107 Thread 'MainThread': missing ScriptRunContext! This warning can be ignored when running in bare mode.\n"
     ]
    }
   ],
   "source": [
    "generation_fossil_oil = st.number_input('generation fossil oil', min_value=0.0, step=0.1)\n",
    "generation_hydro_pumped_storage_consumption = st.number_input('generation hydro pumped storage consumption', min_value=0.0, step=0.1)\n",
    "generation_hydro_run_of_river_and_poundage = st.number_input('generation hydro run-of-river and poundage', min_value=0.0, step=0.1)\n",
    "generation_hydro_water_reservoir = st.number_input('generation hydro water reservoir', min_value=0.0, step=0.1)\n",
    "\n",
    "generation_nuclear = st.number_input('generation nuclear', min_value=0.0, step=0.1)\n",
    "generation_other = st.number_input('generation other', min_value=0.0, step=0.1)\n",
    "generation_other_renewable = st.number_input('generation other renewable', min_value=0.0, step=0.1)\n",
    "generation_solar = st.number_input('generation solar', min_value=0.0, step=0.1)"
   ]
  },
  {
   "cell_type": "code",
   "execution_count": 36,
   "id": "ea2aa35d",
   "metadata": {},
   "outputs": [
    {
     "name": "stderr",
     "output_type": "stream",
     "text": [
      "2024-10-29 11:24:46.133 Thread 'MainThread': missing ScriptRunContext! This warning can be ignored when running in bare mode.\n",
      "2024-10-29 11:24:46.134 Thread 'MainThread': missing ScriptRunContext! This warning can be ignored when running in bare mode.\n",
      "2024-10-29 11:24:46.134 Thread 'MainThread': missing ScriptRunContext! This warning can be ignored when running in bare mode.\n",
      "2024-10-29 11:24:46.135 Thread 'MainThread': missing ScriptRunContext! This warning can be ignored when running in bare mode.\n",
      "2024-10-29 11:24:46.144 Thread 'MainThread': missing ScriptRunContext! This warning can be ignored when running in bare mode.\n",
      "2024-10-29 11:24:46.145 Thread 'MainThread': missing ScriptRunContext! This warning can be ignored when running in bare mode.\n",
      "2024-10-29 11:24:46.145 Thread 'MainThread': missing ScriptRunContext! This warning can be ignored when running in bare mode.\n",
      "2024-10-29 11:24:46.146 Thread 'MainThread': missing ScriptRunContext! This warning can be ignored when running in bare mode.\n",
      "2024-10-29 11:24:46.146 Thread 'MainThread': missing ScriptRunContext! This warning can be ignored when running in bare mode.\n",
      "2024-10-29 11:24:46.147 Thread 'MainThread': missing ScriptRunContext! This warning can be ignored when running in bare mode.\n",
      "2024-10-29 11:24:46.147 Thread 'MainThread': missing ScriptRunContext! This warning can be ignored when running in bare mode.\n",
      "2024-10-29 11:24:46.148 Thread 'MainThread': missing ScriptRunContext! This warning can be ignored when running in bare mode.\n",
      "2024-10-29 11:24:46.148 Thread 'MainThread': missing ScriptRunContext! This warning can be ignored when running in bare mode.\n",
      "2024-10-29 11:24:46.149 Thread 'MainThread': missing ScriptRunContext! This warning can be ignored when running in bare mode.\n",
      "2024-10-29 11:24:46.150 Thread 'MainThread': missing ScriptRunContext! This warning can be ignored when running in bare mode.\n",
      "2024-10-29 11:24:46.150 Thread 'MainThread': missing ScriptRunContext! This warning can be ignored when running in bare mode.\n",
      "2024-10-29 11:24:46.151 Thread 'MainThread': missing ScriptRunContext! This warning can be ignored when running in bare mode.\n",
      "2024-10-29 11:24:46.152 Thread 'MainThread': missing ScriptRunContext! This warning can be ignored when running in bare mode.\n",
      "2024-10-29 11:24:46.153 Thread 'MainThread': missing ScriptRunContext! This warning can be ignored when running in bare mode.\n",
      "2024-10-29 11:24:46.153 Thread 'MainThread': missing ScriptRunContext! This warning can be ignored when running in bare mode.\n",
      "2024-10-29 11:24:46.154 Thread 'MainThread': missing ScriptRunContext! This warning can be ignored when running in bare mode.\n",
      "2024-10-29 11:24:46.155 Thread 'MainThread': missing ScriptRunContext! This warning can be ignored when running in bare mode.\n",
      "2024-10-29 11:24:46.156 Thread 'MainThread': missing ScriptRunContext! This warning can be ignored when running in bare mode.\n",
      "2024-10-29 11:24:46.156 Thread 'MainThread': missing ScriptRunContext! This warning can be ignored when running in bare mode.\n",
      "2024-10-29 11:24:46.157 Thread 'MainThread': missing ScriptRunContext! This warning can be ignored when running in bare mode.\n",
      "2024-10-29 11:24:46.157 Thread 'MainThread': missing ScriptRunContext! This warning can be ignored when running in bare mode.\n",
      "2024-10-29 11:24:46.157 Thread 'MainThread': missing ScriptRunContext! This warning can be ignored when running in bare mode.\n",
      "2024-10-29 11:24:46.158 Thread 'MainThread': missing ScriptRunContext! This warning can be ignored when running in bare mode.\n",
      "2024-10-29 11:24:46.159 Thread 'MainThread': missing ScriptRunContext! This warning can be ignored when running in bare mode.\n",
      "2024-10-29 11:24:46.160 Thread 'MainThread': missing ScriptRunContext! This warning can be ignored when running in bare mode.\n",
      "2024-10-29 11:24:46.161 Thread 'MainThread': missing ScriptRunContext! This warning can be ignored when running in bare mode.\n",
      "2024-10-29 11:24:46.161 Thread 'MainThread': missing ScriptRunContext! This warning can be ignored when running in bare mode.\n",
      "2024-10-29 11:24:46.162 Thread 'MainThread': missing ScriptRunContext! This warning can be ignored when running in bare mode.\n",
      "2024-10-29 11:24:46.162 Thread 'MainThread': missing ScriptRunContext! This warning can be ignored when running in bare mode.\n",
      "2024-10-29 11:24:46.163 Thread 'MainThread': missing ScriptRunContext! This warning can be ignored when running in bare mode.\n",
      "2024-10-29 11:24:46.163 Thread 'MainThread': missing ScriptRunContext! This warning can be ignored when running in bare mode.\n",
      "2024-10-29 11:24:46.163 Thread 'MainThread': missing ScriptRunContext! This warning can be ignored when running in bare mode.\n",
      "2024-10-29 11:24:46.164 Thread 'MainThread': missing ScriptRunContext! This warning can be ignored when running in bare mode.\n",
      "2024-10-29 11:24:46.164 Thread 'MainThread': missing ScriptRunContext! This warning can be ignored when running in bare mode.\n",
      "2024-10-29 11:24:46.165 Thread 'MainThread': missing ScriptRunContext! This warning can be ignored when running in bare mode.\n",
      "2024-10-29 11:24:46.165 Thread 'MainThread': missing ScriptRunContext! This warning can be ignored when running in bare mode.\n",
      "2024-10-29 11:24:46.166 Thread 'MainThread': missing ScriptRunContext! This warning can be ignored when running in bare mode.\n",
      "2024-10-29 11:24:46.166 Thread 'MainThread': missing ScriptRunContext! This warning can be ignored when running in bare mode.\n",
      "2024-10-29 11:24:46.167 Thread 'MainThread': missing ScriptRunContext! This warning can be ignored when running in bare mode.\n",
      "2024-10-29 11:24:46.167 Thread 'MainThread': missing ScriptRunContext! This warning can be ignored when running in bare mode.\n",
      "2024-10-29 11:24:46.167 Thread 'MainThread': missing ScriptRunContext! This warning can be ignored when running in bare mode.\n",
      "2024-10-29 11:24:46.168 Thread 'MainThread': missing ScriptRunContext! This warning can be ignored when running in bare mode.\n",
      "2024-10-29 11:24:46.168 Thread 'MainThread': missing ScriptRunContext! This warning can be ignored when running in bare mode.\n",
      "2024-10-29 11:24:46.169 Thread 'MainThread': missing ScriptRunContext! This warning can be ignored when running in bare mode.\n",
      "2024-10-29 11:24:46.169 Thread 'MainThread': missing ScriptRunContext! This warning can be ignored when running in bare mode.\n",
      "2024-10-29 11:24:46.169 Thread 'MainThread': missing ScriptRunContext! This warning can be ignored when running in bare mode.\n",
      "2024-10-29 11:24:46.170 Thread 'MainThread': missing ScriptRunContext! This warning can be ignored when running in bare mode.\n",
      "2024-10-29 11:24:46.170 Thread 'MainThread': missing ScriptRunContext! This warning can be ignored when running in bare mode.\n",
      "2024-10-29 11:24:46.171 Thread 'MainThread': missing ScriptRunContext! This warning can be ignored when running in bare mode.\n",
      "2024-10-29 11:24:46.171 Thread 'MainThread': missing ScriptRunContext! This warning can be ignored when running in bare mode.\n",
      "2024-10-29 11:24:46.172 Thread 'MainThread': missing ScriptRunContext! This warning can be ignored when running in bare mode.\n",
      "2024-10-29 11:24:46.172 Thread 'MainThread': missing ScriptRunContext! This warning can be ignored when running in bare mode.\n",
      "2024-10-29 11:24:46.173 Thread 'MainThread': missing ScriptRunContext! This warning can be ignored when running in bare mode.\n",
      "2024-10-29 11:24:46.173 Thread 'MainThread': missing ScriptRunContext! This warning can be ignored when running in bare mode.\n",
      "2024-10-29 11:24:46.174 Thread 'MainThread': missing ScriptRunContext! This warning can be ignored when running in bare mode.\n",
      "2024-10-29 11:24:46.175 Thread 'MainThread': missing ScriptRunContext! This warning can be ignored when running in bare mode.\n",
      "2024-10-29 11:24:46.176 Thread 'MainThread': missing ScriptRunContext! This warning can be ignored when running in bare mode.\n",
      "2024-10-29 11:24:46.176 Thread 'MainThread': missing ScriptRunContext! This warning can be ignored when running in bare mode.\n",
      "2024-10-29 11:24:46.177 Thread 'MainThread': missing ScriptRunContext! This warning can be ignored when running in bare mode.\n",
      "2024-10-29 11:24:46.177 Thread 'MainThread': missing ScriptRunContext! This warning can be ignored when running in bare mode.\n",
      "2024-10-29 11:24:46.178 Thread 'MainThread': missing ScriptRunContext! This warning can be ignored when running in bare mode.\n"
     ]
    }
   ],
   "source": [
    "generation_waste = st.number_input('generation waste', min_value=0.0, step=0.1)\n",
    "generation_wind_onshore = st.number_input('generation wind onshore', min_value=0.0, step=0.1)\n",
    "total_load_actual = st.number_input('total load actual', min_value=0.0, step=0.1)\n",
    "\n",
    "temp_Valencia = st.number_input('temp_Valencia', min_value=0.0, step=0.1)\n",
    "pressure_Valencia = st.number_input('pressure_Valencia', min_value=0.0, step=0.1)\n",
    "humidity_Valencia = st.number_input('humidity_Valencia', min_value=0.0, step=0.1)\n",
    "wind_speed_Valencia = st.number_input('wind_speed_Valencia', min_value=0.0, step=0.1)\n",
    "wind_deg_Valencia = st.number_input('wind_deg_Valencia', min_value=0.0, step=0.1)\n",
    "rain_1h_Valencia = st.number_input('rain_1h_Valencia', min_value=0.0, step=0.1)\n",
    "snow_3h_Valencia = st.number_input('snow_3h_Valencia', min_value=0.0, step=0.1)\n",
    "clouds_all_Valencia = st.number_input('clouds_all_Valencia', min_value=0.0, step=0.1)"
   ]
  },
  {
   "cell_type": "code",
   "execution_count": 37,
   "id": "5a4cc2e1",
   "metadata": {},
   "outputs": [
    {
     "name": "stderr",
     "output_type": "stream",
     "text": [
      "2024-10-29 11:24:46.195 Thread 'MainThread': missing ScriptRunContext! This warning can be ignored when running in bare mode.\n",
      "2024-10-29 11:24:46.196 Thread 'MainThread': missing ScriptRunContext! This warning can be ignored when running in bare mode.\n",
      "2024-10-29 11:24:46.197 Thread 'MainThread': missing ScriptRunContext! This warning can be ignored when running in bare mode.\n",
      "2024-10-29 11:24:46.198 Thread 'MainThread': missing ScriptRunContext! This warning can be ignored when running in bare mode.\n",
      "2024-10-29 11:24:46.198 Thread 'MainThread': missing ScriptRunContext! This warning can be ignored when running in bare mode.\n",
      "2024-10-29 11:24:46.199 Thread 'MainThread': missing ScriptRunContext! This warning can be ignored when running in bare mode.\n",
      "2024-10-29 11:24:46.200 Thread 'MainThread': missing ScriptRunContext! This warning can be ignored when running in bare mode.\n",
      "2024-10-29 11:24:46.200 Thread 'MainThread': missing ScriptRunContext! This warning can be ignored when running in bare mode.\n",
      "2024-10-29 11:24:46.201 Thread 'MainThread': missing ScriptRunContext! This warning can be ignored when running in bare mode.\n",
      "2024-10-29 11:24:46.201 Thread 'MainThread': missing ScriptRunContext! This warning can be ignored when running in bare mode.\n",
      "2024-10-29 11:24:46.202 Thread 'MainThread': missing ScriptRunContext! This warning can be ignored when running in bare mode.\n",
      "2024-10-29 11:24:46.202 Thread 'MainThread': missing ScriptRunContext! This warning can be ignored when running in bare mode.\n",
      "2024-10-29 11:24:46.203 Thread 'MainThread': missing ScriptRunContext! This warning can be ignored when running in bare mode.\n",
      "2024-10-29 11:24:46.204 Thread 'MainThread': missing ScriptRunContext! This warning can be ignored when running in bare mode.\n",
      "2024-10-29 11:24:46.205 Thread 'MainThread': missing ScriptRunContext! This warning can be ignored when running in bare mode.\n",
      "2024-10-29 11:24:46.205 Thread 'MainThread': missing ScriptRunContext! This warning can be ignored when running in bare mode.\n",
      "2024-10-29 11:24:46.206 Thread 'MainThread': missing ScriptRunContext! This warning can be ignored when running in bare mode.\n",
      "2024-10-29 11:24:46.206 Thread 'MainThread': missing ScriptRunContext! This warning can be ignored when running in bare mode.\n",
      "2024-10-29 11:24:46.207 Thread 'MainThread': missing ScriptRunContext! This warning can be ignored when running in bare mode.\n",
      "2024-10-29 11:24:46.208 Thread 'MainThread': missing ScriptRunContext! This warning can be ignored when running in bare mode.\n",
      "2024-10-29 11:24:46.208 Thread 'MainThread': missing ScriptRunContext! This warning can be ignored when running in bare mode.\n",
      "2024-10-29 11:24:46.209 Thread 'MainThread': missing ScriptRunContext! This warning can be ignored when running in bare mode.\n",
      "2024-10-29 11:24:46.210 Thread 'MainThread': missing ScriptRunContext! This warning can be ignored when running in bare mode.\n",
      "2024-10-29 11:24:46.210 Thread 'MainThread': missing ScriptRunContext! This warning can be ignored when running in bare mode.\n",
      "2024-10-29 11:24:46.211 Thread 'MainThread': missing ScriptRunContext! This warning can be ignored when running in bare mode.\n",
      "2024-10-29 11:24:46.212 Thread 'MainThread': missing ScriptRunContext! This warning can be ignored when running in bare mode.\n",
      "2024-10-29 11:24:46.213 Thread 'MainThread': missing ScriptRunContext! This warning can be ignored when running in bare mode.\n",
      "2024-10-29 11:24:46.214 Thread 'MainThread': missing ScriptRunContext! This warning can be ignored when running in bare mode.\n",
      "2024-10-29 11:24:46.215 Thread 'MainThread': missing ScriptRunContext! This warning can be ignored when running in bare mode.\n",
      "2024-10-29 11:24:46.215 Thread 'MainThread': missing ScriptRunContext! This warning can be ignored when running in bare mode.\n",
      "2024-10-29 11:24:46.216 Thread 'MainThread': missing ScriptRunContext! This warning can be ignored when running in bare mode.\n",
      "2024-10-29 11:24:46.216 Thread 'MainThread': missing ScriptRunContext! This warning can be ignored when running in bare mode.\n",
      "2024-10-29 11:24:46.217 Thread 'MainThread': missing ScriptRunContext! This warning can be ignored when running in bare mode.\n",
      "2024-10-29 11:24:46.217 Thread 'MainThread': missing ScriptRunContext! This warning can be ignored when running in bare mode.\n",
      "2024-10-29 11:24:46.218 Thread 'MainThread': missing ScriptRunContext! This warning can be ignored when running in bare mode.\n",
      "2024-10-29 11:24:46.218 Thread 'MainThread': missing ScriptRunContext! This warning can be ignored when running in bare mode.\n",
      "2024-10-29 11:24:46.218 Thread 'MainThread': missing ScriptRunContext! This warning can be ignored when running in bare mode.\n",
      "2024-10-29 11:24:46.219 Thread 'MainThread': missing ScriptRunContext! This warning can be ignored when running in bare mode.\n",
      "2024-10-29 11:24:46.219 Thread 'MainThread': missing ScriptRunContext! This warning can be ignored when running in bare mode.\n",
      "2024-10-29 11:24:46.220 Thread 'MainThread': missing ScriptRunContext! This warning can be ignored when running in bare mode.\n",
      "2024-10-29 11:24:46.220 Thread 'MainThread': missing ScriptRunContext! This warning can be ignored when running in bare mode.\n",
      "2024-10-29 11:24:46.220 Thread 'MainThread': missing ScriptRunContext! This warning can be ignored when running in bare mode.\n",
      "2024-10-29 11:24:46.221 Thread 'MainThread': missing ScriptRunContext! This warning can be ignored when running in bare mode.\n",
      "2024-10-29 11:24:46.222 Thread 'MainThread': missing ScriptRunContext! This warning can be ignored when running in bare mode.\n",
      "2024-10-29 11:24:46.222 Thread 'MainThread': missing ScriptRunContext! This warning can be ignored when running in bare mode.\n",
      "2024-10-29 11:24:46.223 Thread 'MainThread': missing ScriptRunContext! This warning can be ignored when running in bare mode.\n",
      "2024-10-29 11:24:46.224 Thread 'MainThread': missing ScriptRunContext! This warning can be ignored when running in bare mode.\n",
      "2024-10-29 11:24:46.224 Thread 'MainThread': missing ScriptRunContext! This warning can be ignored when running in bare mode.\n"
     ]
    }
   ],
   "source": [
    "temp_Madrid = st.number_input('temp_Madrid', min_value=0.0, step=0.1)\n",
    "pressure_Madrid = st.number_input('pressure_Madrid', min_value=0.0, step=0.1)\n",
    "humidity_Madrid = st.number_input('humidity_Madrid', min_value=0.0, step=0.1)\n",
    "wind_speed_Madrid = st.number_input('wind_speed_Madrid', min_value=0.0, step=0.1)\n",
    "wind_deg_Madrid = st.number_input('wind_deg_Madrid', min_value=0.0, step=0.1)\n",
    "rain_1h_Madrid = st.number_input('rain_1h_Madrid', min_value=0.0, step=0.1)\n",
    "snow_3h_Madrid = st.number_input('snow_3h_Madrid', min_value=0.0, step=0.1)\n",
    "clouds_all_Madrid = st.number_input('clouds_all_Madrid', min_value=0.0, step=0.1)"
   ]
  },
  {
   "cell_type": "code",
   "execution_count": 38,
   "id": "29c38239",
   "metadata": {},
   "outputs": [
    {
     "name": "stderr",
     "output_type": "stream",
     "text": [
      "2024-10-29 11:24:46.240 Thread 'MainThread': missing ScriptRunContext! This warning can be ignored when running in bare mode.\n",
      "2024-10-29 11:24:46.241 Thread 'MainThread': missing ScriptRunContext! This warning can be ignored when running in bare mode.\n",
      "2024-10-29 11:24:46.242 Thread 'MainThread': missing ScriptRunContext! This warning can be ignored when running in bare mode.\n",
      "2024-10-29 11:24:46.243 Thread 'MainThread': missing ScriptRunContext! This warning can be ignored when running in bare mode.\n",
      "2024-10-29 11:24:46.244 Thread 'MainThread': missing ScriptRunContext! This warning can be ignored when running in bare mode.\n",
      "2024-10-29 11:24:46.244 Thread 'MainThread': missing ScriptRunContext! This warning can be ignored when running in bare mode.\n",
      "2024-10-29 11:24:46.245 Thread 'MainThread': missing ScriptRunContext! This warning can be ignored when running in bare mode.\n",
      "2024-10-29 11:24:46.246 Thread 'MainThread': missing ScriptRunContext! This warning can be ignored when running in bare mode.\n",
      "2024-10-29 11:24:46.246 Thread 'MainThread': missing ScriptRunContext! This warning can be ignored when running in bare mode.\n",
      "2024-10-29 11:24:46.246 Thread 'MainThread': missing ScriptRunContext! This warning can be ignored when running in bare mode.\n",
      "2024-10-29 11:24:46.247 Thread 'MainThread': missing ScriptRunContext! This warning can be ignored when running in bare mode.\n",
      "2024-10-29 11:24:46.247 Thread 'MainThread': missing ScriptRunContext! This warning can be ignored when running in bare mode.\n",
      "2024-10-29 11:24:46.248 Thread 'MainThread': missing ScriptRunContext! This warning can be ignored when running in bare mode.\n",
      "2024-10-29 11:24:46.248 Thread 'MainThread': missing ScriptRunContext! This warning can be ignored when running in bare mode.\n",
      "2024-10-29 11:24:46.249 Thread 'MainThread': missing ScriptRunContext! This warning can be ignored when running in bare mode.\n",
      "2024-10-29 11:24:46.249 Thread 'MainThread': missing ScriptRunContext! This warning can be ignored when running in bare mode.\n",
      "2024-10-29 11:24:46.250 Thread 'MainThread': missing ScriptRunContext! This warning can be ignored when running in bare mode.\n",
      "2024-10-29 11:24:46.250 Thread 'MainThread': missing ScriptRunContext! This warning can be ignored when running in bare mode.\n",
      "2024-10-29 11:24:46.251 Thread 'MainThread': missing ScriptRunContext! This warning can be ignored when running in bare mode.\n",
      "2024-10-29 11:24:46.251 Thread 'MainThread': missing ScriptRunContext! This warning can be ignored when running in bare mode.\n",
      "2024-10-29 11:24:46.252 Thread 'MainThread': missing ScriptRunContext! This warning can be ignored when running in bare mode.\n",
      "2024-10-29 11:24:46.252 Thread 'MainThread': missing ScriptRunContext! This warning can be ignored when running in bare mode.\n",
      "2024-10-29 11:24:46.252 Thread 'MainThread': missing ScriptRunContext! This warning can be ignored when running in bare mode.\n",
      "2024-10-29 11:24:46.253 Thread 'MainThread': missing ScriptRunContext! This warning can be ignored when running in bare mode.\n",
      "2024-10-29 11:24:46.253 Thread 'MainThread': missing ScriptRunContext! This warning can be ignored when running in bare mode.\n",
      "2024-10-29 11:24:46.254 Thread 'MainThread': missing ScriptRunContext! This warning can be ignored when running in bare mode.\n",
      "2024-10-29 11:24:46.254 Thread 'MainThread': missing ScriptRunContext! This warning can be ignored when running in bare mode.\n",
      "2024-10-29 11:24:46.255 Thread 'MainThread': missing ScriptRunContext! This warning can be ignored when running in bare mode.\n",
      "2024-10-29 11:24:46.255 Thread 'MainThread': missing ScriptRunContext! This warning can be ignored when running in bare mode.\n",
      "2024-10-29 11:24:46.256 Thread 'MainThread': missing ScriptRunContext! This warning can be ignored when running in bare mode.\n",
      "2024-10-29 11:24:46.256 Thread 'MainThread': missing ScriptRunContext! This warning can be ignored when running in bare mode.\n",
      "2024-10-29 11:24:46.257 Thread 'MainThread': missing ScriptRunContext! This warning can be ignored when running in bare mode.\n",
      "2024-10-29 11:24:46.257 Thread 'MainThread': missing ScriptRunContext! This warning can be ignored when running in bare mode.\n",
      "2024-10-29 11:24:46.258 Thread 'MainThread': missing ScriptRunContext! This warning can be ignored when running in bare mode.\n",
      "2024-10-29 11:24:46.259 Thread 'MainThread': missing ScriptRunContext! This warning can be ignored when running in bare mode.\n",
      "2024-10-29 11:24:46.260 Thread 'MainThread': missing ScriptRunContext! This warning can be ignored when running in bare mode.\n",
      "2024-10-29 11:24:46.262 Thread 'MainThread': missing ScriptRunContext! This warning can be ignored when running in bare mode.\n",
      "2024-10-29 11:24:46.263 Thread 'MainThread': missing ScriptRunContext! This warning can be ignored when running in bare mode.\n",
      "2024-10-29 11:24:46.263 Thread 'MainThread': missing ScriptRunContext! This warning can be ignored when running in bare mode.\n",
      "2024-10-29 11:24:46.264 Thread 'MainThread': missing ScriptRunContext! This warning can be ignored when running in bare mode.\n",
      "2024-10-29 11:24:46.264 Thread 'MainThread': missing ScriptRunContext! This warning can be ignored when running in bare mode.\n",
      "2024-10-29 11:24:46.265 Thread 'MainThread': missing ScriptRunContext! This warning can be ignored when running in bare mode.\n",
      "2024-10-29 11:24:46.266 Thread 'MainThread': missing ScriptRunContext! This warning can be ignored when running in bare mode.\n",
      "2024-10-29 11:24:46.266 Thread 'MainThread': missing ScriptRunContext! This warning can be ignored when running in bare mode.\n",
      "2024-10-29 11:24:46.267 Thread 'MainThread': missing ScriptRunContext! This warning can be ignored when running in bare mode.\n",
      "2024-10-29 11:24:46.267 Thread 'MainThread': missing ScriptRunContext! This warning can be ignored when running in bare mode.\n",
      "2024-10-29 11:24:46.268 Thread 'MainThread': missing ScriptRunContext! This warning can be ignored when running in bare mode.\n",
      "2024-10-29 11:24:46.268 Thread 'MainThread': missing ScriptRunContext! This warning can be ignored when running in bare mode.\n"
     ]
    }
   ],
   "source": [
    "temp_Bilbao = st.number_input('temp_Bilbao', min_value=0.0, step=0.1)\n",
    "pressure_Bilbao = st.number_input('pressure_Bilbao', min_value=0.0, step=0.1)\n",
    "humidity_Bilbao = st.number_input('humidity_Bilbao', min_value=0.0, step=0.1)\n",
    "wind_speed_Bilbao = st.number_input('wind_speed_Bilbao', min_value=0.0, step=0.1)\n",
    "wind_deg_Bilbao = st.number_input('wind_deg_Bilbao', min_value=0.0, step=0.1)\n",
    "rain_1h_Bilbao = st.number_input('rain_1h_Bilbao', min_value=0.0, step=0.1)\n",
    "snow_3h_Bilbao = st.number_input('snow_3h_Bilbao', min_value=0.0, step=0.1)\n",
    "clouds_all_Bilbao = st.number_input('clouds_all_Bilbao', min_value=0.0, step=0.1)"
   ]
  },
  {
   "cell_type": "code",
   "execution_count": 39,
   "id": "d2bb5333",
   "metadata": {},
   "outputs": [
    {
     "name": "stderr",
     "output_type": "stream",
     "text": [
      "2024-10-29 11:24:46.288 Thread 'MainThread': missing ScriptRunContext! This warning can be ignored when running in bare mode.\n",
      "2024-10-29 11:24:46.289 Thread 'MainThread': missing ScriptRunContext! This warning can be ignored when running in bare mode.\n",
      "2024-10-29 11:24:46.290 Thread 'MainThread': missing ScriptRunContext! This warning can be ignored when running in bare mode.\n",
      "2024-10-29 11:24:46.290 Thread 'MainThread': missing ScriptRunContext! This warning can be ignored when running in bare mode.\n",
      "2024-10-29 11:24:46.291 Thread 'MainThread': missing ScriptRunContext! This warning can be ignored when running in bare mode.\n",
      "2024-10-29 11:24:46.292 Thread 'MainThread': missing ScriptRunContext! This warning can be ignored when running in bare mode.\n",
      "2024-10-29 11:24:46.292 Thread 'MainThread': missing ScriptRunContext! This warning can be ignored when running in bare mode.\n",
      "2024-10-29 11:24:46.293 Thread 'MainThread': missing ScriptRunContext! This warning can be ignored when running in bare mode.\n",
      "2024-10-29 11:24:46.294 Thread 'MainThread': missing ScriptRunContext! This warning can be ignored when running in bare mode.\n",
      "2024-10-29 11:24:46.295 Thread 'MainThread': missing ScriptRunContext! This warning can be ignored when running in bare mode.\n",
      "2024-10-29 11:24:46.296 Thread 'MainThread': missing ScriptRunContext! This warning can be ignored when running in bare mode.\n",
      "2024-10-29 11:24:46.296 Thread 'MainThread': missing ScriptRunContext! This warning can be ignored when running in bare mode.\n",
      "2024-10-29 11:24:46.297 Thread 'MainThread': missing ScriptRunContext! This warning can be ignored when running in bare mode.\n",
      "2024-10-29 11:24:46.298 Thread 'MainThread': missing ScriptRunContext! This warning can be ignored when running in bare mode.\n",
      "2024-10-29 11:24:46.298 Thread 'MainThread': missing ScriptRunContext! This warning can be ignored when running in bare mode.\n",
      "2024-10-29 11:24:46.299 Thread 'MainThread': missing ScriptRunContext! This warning can be ignored when running in bare mode.\n",
      "2024-10-29 11:24:46.300 Thread 'MainThread': missing ScriptRunContext! This warning can be ignored when running in bare mode.\n",
      "2024-10-29 11:24:46.300 Thread 'MainThread': missing ScriptRunContext! This warning can be ignored when running in bare mode.\n",
      "2024-10-29 11:24:46.301 Thread 'MainThread': missing ScriptRunContext! This warning can be ignored when running in bare mode.\n",
      "2024-10-29 11:24:46.301 Thread 'MainThread': missing ScriptRunContext! This warning can be ignored when running in bare mode.\n",
      "2024-10-29 11:24:46.302 Thread 'MainThread': missing ScriptRunContext! This warning can be ignored when running in bare mode.\n",
      "2024-10-29 11:24:46.302 Thread 'MainThread': missing ScriptRunContext! This warning can be ignored when running in bare mode.\n",
      "2024-10-29 11:24:46.303 Thread 'MainThread': missing ScriptRunContext! This warning can be ignored when running in bare mode.\n",
      "2024-10-29 11:24:46.303 Thread 'MainThread': missing ScriptRunContext! This warning can be ignored when running in bare mode.\n",
      "2024-10-29 11:24:46.304 Thread 'MainThread': missing ScriptRunContext! This warning can be ignored when running in bare mode.\n",
      "2024-10-29 11:24:46.305 Thread 'MainThread': missing ScriptRunContext! This warning can be ignored when running in bare mode.\n",
      "2024-10-29 11:24:46.305 Thread 'MainThread': missing ScriptRunContext! This warning can be ignored when running in bare mode.\n",
      "2024-10-29 11:24:46.306 Thread 'MainThread': missing ScriptRunContext! This warning can be ignored when running in bare mode.\n",
      "2024-10-29 11:24:46.307 Thread 'MainThread': missing ScriptRunContext! This warning can be ignored when running in bare mode.\n",
      "2024-10-29 11:24:46.308 Thread 'MainThread': missing ScriptRunContext! This warning can be ignored when running in bare mode.\n",
      "2024-10-29 11:24:46.308 Thread 'MainThread': missing ScriptRunContext! This warning can be ignored when running in bare mode.\n",
      "2024-10-29 11:24:46.309 Thread 'MainThread': missing ScriptRunContext! This warning can be ignored when running in bare mode.\n",
      "2024-10-29 11:24:46.310 Thread 'MainThread': missing ScriptRunContext! This warning can be ignored when running in bare mode.\n",
      "2024-10-29 11:24:46.312 Thread 'MainThread': missing ScriptRunContext! This warning can be ignored when running in bare mode.\n",
      "2024-10-29 11:24:46.312 Thread 'MainThread': missing ScriptRunContext! This warning can be ignored when running in bare mode.\n",
      "2024-10-29 11:24:46.313 Thread 'MainThread': missing ScriptRunContext! This warning can be ignored when running in bare mode.\n",
      "2024-10-29 11:24:46.314 Thread 'MainThread': missing ScriptRunContext! This warning can be ignored when running in bare mode.\n",
      "2024-10-29 11:24:46.314 Thread 'MainThread': missing ScriptRunContext! This warning can be ignored when running in bare mode.\n",
      "2024-10-29 11:24:46.315 Thread 'MainThread': missing ScriptRunContext! This warning can be ignored when running in bare mode.\n",
      "2024-10-29 11:24:46.316 Thread 'MainThread': missing ScriptRunContext! This warning can be ignored when running in bare mode.\n",
      "2024-10-29 11:24:46.317 Thread 'MainThread': missing ScriptRunContext! This warning can be ignored when running in bare mode.\n",
      "2024-10-29 11:24:46.317 Thread 'MainThread': missing ScriptRunContext! This warning can be ignored when running in bare mode.\n",
      "2024-10-29 11:24:46.318 Thread 'MainThread': missing ScriptRunContext! This warning can be ignored when running in bare mode.\n",
      "2024-10-29 11:24:46.320 Thread 'MainThread': missing ScriptRunContext! This warning can be ignored when running in bare mode.\n",
      "2024-10-29 11:24:46.320 Thread 'MainThread': missing ScriptRunContext! This warning can be ignored when running in bare mode.\n",
      "2024-10-29 11:24:46.321 Thread 'MainThread': missing ScriptRunContext! This warning can be ignored when running in bare mode.\n",
      "2024-10-29 11:24:46.321 Thread 'MainThread': missing ScriptRunContext! This warning can be ignored when running in bare mode.\n",
      "2024-10-29 11:24:46.322 Thread 'MainThread': missing ScriptRunContext! This warning can be ignored when running in bare mode.\n"
     ]
    }
   ],
   "source": [
    "temp_Seville = st.number_input('temp_Seville', min_value=0.0, step=0.1)\n",
    "pressure_Seville = st.number_input('pressure_Seville', min_value=0.0, step=0.1)\n",
    "humidity_Seville = st.number_input('humidity_Seville', min_value=0.0, step=0.1)\n",
    "wind_speed_Seville = st.number_input('wind_speed_Seville', min_value=0.0, step=0.1)\n",
    "wind_deg_Seville = st.number_input('wind_deg_Seville', min_value=0.0, step=0.1)\n",
    "rain_1h_Seville = st.number_input('rain_1h_Seville', min_value=0.0, step=0.1)\n",
    "snow_3h_Seville = st.number_input('snow_3h_Seville', min_value=0.0, step=0.1)\n",
    "clouds_all_Seville = st.number_input('clouds_all_Seville', min_value=0.0, step=0.1)"
   ]
  },
  {
   "cell_type": "code",
   "execution_count": 40,
   "id": "c15c5840",
   "metadata": {},
   "outputs": [
    {
     "name": "stderr",
     "output_type": "stream",
     "text": [
      "2024-10-29 11:24:46.334 Thread 'MainThread': missing ScriptRunContext! This warning can be ignored when running in bare mode.\n",
      "2024-10-29 11:24:46.335 Thread 'MainThread': missing ScriptRunContext! This warning can be ignored when running in bare mode.\n",
      "2024-10-29 11:24:46.335 Thread 'MainThread': missing ScriptRunContext! This warning can be ignored when running in bare mode.\n",
      "2024-10-29 11:24:46.336 Thread 'MainThread': missing ScriptRunContext! This warning can be ignored when running in bare mode.\n",
      "2024-10-29 11:24:46.337 Thread 'MainThread': missing ScriptRunContext! This warning can be ignored when running in bare mode.\n",
      "2024-10-29 11:24:46.338 Thread 'MainThread': missing ScriptRunContext! This warning can be ignored when running in bare mode.\n",
      "2024-10-29 11:24:46.338 Thread 'MainThread': missing ScriptRunContext! This warning can be ignored when running in bare mode.\n",
      "2024-10-29 11:24:46.339 Thread 'MainThread': missing ScriptRunContext! This warning can be ignored when running in bare mode.\n",
      "2024-10-29 11:24:46.339 Thread 'MainThread': missing ScriptRunContext! This warning can be ignored when running in bare mode.\n",
      "2024-10-29 11:24:46.340 Thread 'MainThread': missing ScriptRunContext! This warning can be ignored when running in bare mode.\n",
      "2024-10-29 11:24:46.340 Thread 'MainThread': missing ScriptRunContext! This warning can be ignored when running in bare mode.\n",
      "2024-10-29 11:24:46.341 Thread 'MainThread': missing ScriptRunContext! This warning can be ignored when running in bare mode.\n",
      "2024-10-29 11:24:46.341 Thread 'MainThread': missing ScriptRunContext! This warning can be ignored when running in bare mode.\n",
      "2024-10-29 11:24:46.342 Thread 'MainThread': missing ScriptRunContext! This warning can be ignored when running in bare mode.\n",
      "2024-10-29 11:24:46.342 Thread 'MainThread': missing ScriptRunContext! This warning can be ignored when running in bare mode.\n",
      "2024-10-29 11:24:46.343 Thread 'MainThread': missing ScriptRunContext! This warning can be ignored when running in bare mode.\n",
      "2024-10-29 11:24:46.343 Thread 'MainThread': missing ScriptRunContext! This warning can be ignored when running in bare mode.\n",
      "2024-10-29 11:24:46.343 Thread 'MainThread': missing ScriptRunContext! This warning can be ignored when running in bare mode.\n",
      "2024-10-29 11:24:46.344 Thread 'MainThread': missing ScriptRunContext! This warning can be ignored when running in bare mode.\n",
      "2024-10-29 11:24:46.345 Thread 'MainThread': missing ScriptRunContext! This warning can be ignored when running in bare mode.\n",
      "2024-10-29 11:24:46.346 Thread 'MainThread': missing ScriptRunContext! This warning can be ignored when running in bare mode.\n",
      "2024-10-29 11:24:46.347 Thread 'MainThread': missing ScriptRunContext! This warning can be ignored when running in bare mode.\n",
      "2024-10-29 11:24:46.347 Thread 'MainThread': missing ScriptRunContext! This warning can be ignored when running in bare mode.\n",
      "2024-10-29 11:24:46.348 Thread 'MainThread': missing ScriptRunContext! This warning can be ignored when running in bare mode.\n",
      "2024-10-29 11:24:46.349 Thread 'MainThread': missing ScriptRunContext! This warning can be ignored when running in bare mode.\n",
      "2024-10-29 11:24:46.349 Thread 'MainThread': missing ScriptRunContext! This warning can be ignored when running in bare mode.\n",
      "2024-10-29 11:24:46.350 Thread 'MainThread': missing ScriptRunContext! This warning can be ignored when running in bare mode.\n",
      "2024-10-29 11:24:46.350 Thread 'MainThread': missing ScriptRunContext! This warning can be ignored when running in bare mode.\n",
      "2024-10-29 11:24:46.351 Thread 'MainThread': missing ScriptRunContext! This warning can be ignored when running in bare mode.\n",
      "2024-10-29 11:24:46.351 Thread 'MainThread': missing ScriptRunContext! This warning can be ignored when running in bare mode.\n",
      "2024-10-29 11:24:46.352 Thread 'MainThread': missing ScriptRunContext! This warning can be ignored when running in bare mode.\n",
      "2024-10-29 11:24:46.352 Thread 'MainThread': missing ScriptRunContext! This warning can be ignored when running in bare mode.\n",
      "2024-10-29 11:24:46.353 Thread 'MainThread': missing ScriptRunContext! This warning can be ignored when running in bare mode.\n",
      "2024-10-29 11:24:46.354 Thread 'MainThread': missing ScriptRunContext! This warning can be ignored when running in bare mode.\n",
      "2024-10-29 11:24:46.354 Thread 'MainThread': missing ScriptRunContext! This warning can be ignored when running in bare mode.\n",
      "2024-10-29 11:24:46.354 Thread 'MainThread': missing ScriptRunContext! This warning can be ignored when running in bare mode.\n",
      "2024-10-29 11:24:46.356 Thread 'MainThread': missing ScriptRunContext! This warning can be ignored when running in bare mode.\n",
      "2024-10-29 11:24:46.357 Thread 'MainThread': missing ScriptRunContext! This warning can be ignored when running in bare mode.\n",
      "2024-10-29 11:24:46.357 Thread 'MainThread': missing ScriptRunContext! This warning can be ignored when running in bare mode.\n",
      "2024-10-29 11:24:46.358 Thread 'MainThread': missing ScriptRunContext! This warning can be ignored when running in bare mode.\n",
      "2024-10-29 11:24:46.358 Thread 'MainThread': missing ScriptRunContext! This warning can be ignored when running in bare mode.\n",
      "2024-10-29 11:24:46.359 Thread 'MainThread': missing ScriptRunContext! This warning can be ignored when running in bare mode.\n",
      "2024-10-29 11:24:46.359 Thread 'MainThread': missing ScriptRunContext! This warning can be ignored when running in bare mode.\n",
      "2024-10-29 11:24:46.360 Thread 'MainThread': missing ScriptRunContext! This warning can be ignored when running in bare mode.\n",
      "2024-10-29 11:24:46.360 Thread 'MainThread': missing ScriptRunContext! This warning can be ignored when running in bare mode.\n",
      "2024-10-29 11:24:46.360 Thread 'MainThread': missing ScriptRunContext! This warning can be ignored when running in bare mode.\n",
      "2024-10-29 11:24:46.361 Thread 'MainThread': missing ScriptRunContext! This warning can be ignored when running in bare mode.\n",
      "2024-10-29 11:24:46.361 Thread 'MainThread': missing ScriptRunContext! This warning can be ignored when running in bare mode.\n"
     ]
    }
   ],
   "source": [
    "temp_Barcelona = st.number_input('temp_Barcelona', min_value=0.0, step=0.1)\n",
    "pressure_Barcelona = st.number_input('pressure_Barcelona', min_value=0.0, step=0.1)\n",
    "humidity_Barcelona = st.number_input('humidity_Barcelona', min_value=0.0, step=0.1)\n",
    "wind_speed_Barcelona = st.number_input('wind_speed_Barcelona', min_value=0.0, step=0.1)\n",
    "wind_deg_Barcelona = st.number_input('wind_deg_Barcelona', min_value=0.0, step=0.1)\n",
    "rain_1h_Barcelona = st.number_input('rain_1h_Barcelona', min_value=0.0, step=0.1)\n",
    "snow_3h_Barcelona = st.number_input('snow_3h_Barcelona', min_value=0.0, step=0.1)\n",
    "clouds_all_Barcelona = st.number_input('clouds_all_Barcelona', min_value=0.0, step=0.1)"
   ]
  },
  {
   "cell_type": "markdown",
   "id": "6c187c79",
   "metadata": {},
   "source": [
    "### Date Time input "
   ]
  },
  {
   "cell_type": "code",
   "execution_count": 41,
   "id": "ff2fcfdd",
   "metadata": {},
   "outputs": [],
   "source": [
    "from datetime import datetime"
   ]
  },
  {
   "cell_type": "code",
   "execution_count": 42,
   "id": "228fc0a6",
   "metadata": {},
   "outputs": [
    {
     "name": "stderr",
     "output_type": "stream",
     "text": [
      "2024-10-29 11:24:46.398 Thread 'MainThread': missing ScriptRunContext! This warning can be ignored when running in bare mode.\n",
      "2024-10-29 11:24:46.401 Thread 'MainThread': missing ScriptRunContext! This warning can be ignored when running in bare mode.\n",
      "2024-10-29 11:24:46.402 Thread 'MainThread': missing ScriptRunContext! This warning can be ignored when running in bare mode.\n",
      "2024-10-29 11:24:46.409 Thread 'MainThread': missing ScriptRunContext! This warning can be ignored when running in bare mode.\n",
      "2024-10-29 11:24:46.410 Thread 'MainThread': missing ScriptRunContext! This warning can be ignored when running in bare mode.\n"
     ]
    }
   ],
   "source": [
    "date = st.date_input(\"Select a date\", datetime.today())"
   ]
  },
  {
   "cell_type": "code",
   "execution_count": 43,
   "id": "079ba26b",
   "metadata": {},
   "outputs": [
    {
     "name": "stderr",
     "output_type": "stream",
     "text": [
      "2024-10-29 11:24:46.427 Thread 'MainThread': missing ScriptRunContext! This warning can be ignored when running in bare mode.\n",
      "2024-10-29 11:24:46.428 Thread 'MainThread': missing ScriptRunContext! This warning can be ignored when running in bare mode.\n",
      "2024-10-29 11:24:46.428 Thread 'MainThread': missing ScriptRunContext! This warning can be ignored when running in bare mode.\n",
      "2024-10-29 11:24:46.429 Thread 'MainThread': missing ScriptRunContext! This warning can be ignored when running in bare mode.\n",
      "2024-10-29 11:24:46.430 Thread 'MainThread': missing ScriptRunContext! This warning can be ignored when running in bare mode.\n",
      "2024-10-29 11:24:46.430 Thread 'MainThread': missing ScriptRunContext! This warning can be ignored when running in bare mode.\n"
     ]
    }
   ],
   "source": [
    "time = st.time_input(\"Select a time\", datetime.now().time())"
   ]
  },
  {
   "cell_type": "code",
   "execution_count": 44,
   "id": "7377cff8",
   "metadata": {},
   "outputs": [],
   "source": [
    "Year = date.year"
   ]
  },
  {
   "cell_type": "code",
   "execution_count": 45,
   "id": "af20531c",
   "metadata": {},
   "outputs": [],
   "source": [
    "Month = date.month"
   ]
  },
  {
   "cell_type": "code",
   "execution_count": 46,
   "id": "ce21dfd1",
   "metadata": {},
   "outputs": [],
   "source": [
    "Day = date.day"
   ]
  },
  {
   "cell_type": "code",
   "execution_count": 47,
   "id": "61b89ebb",
   "metadata": {},
   "outputs": [],
   "source": [
    "DAY_OF_YEAR = date.timetuple().tm_yday"
   ]
  },
  {
   "cell_type": "code",
   "execution_count": 48,
   "id": "46895236",
   "metadata": {},
   "outputs": [],
   "source": [
    "WEEK_OF_YEAR = date.isocalendar().week"
   ]
  },
  {
   "cell_type": "code",
   "execution_count": 49,
   "id": "e4d70457",
   "metadata": {},
   "outputs": [],
   "source": [
    "HOUR = time.hour"
   ]
  },
  {
   "cell_type": "code",
   "execution_count": 50,
   "id": "992ef2e3",
   "metadata": {},
   "outputs": [],
   "source": [
    "condition_winter = (Month >=1)&(Month <=3)\n",
    "condtion_spring = (Month >=4)&(Month <=6)\n",
    "condition_summer = (Month >=7)&(Month <=9)\n",
    "condition_automn = (Month >=10)&(Month <=12)"
   ]
  },
  {
   "cell_type": "code",
   "execution_count": 51,
   "id": "aec65502",
   "metadata": {},
   "outputs": [],
   "source": [
    "season = np.where(condition_winter,'winter',np.where(condtion_spring,'spring',np.where(condition_summer,'summer',np.where(condition_automn,'automn',np.nan))))"
   ]
  },
  {
   "cell_type": "code",
   "execution_count": 52,
   "id": "2ebd3567",
   "metadata": {},
   "outputs": [],
   "source": [
    "if season == 'winter':\n",
    "    season_winter = 1\n",
    "    season_summer = 0\n",
    "    season_spring = 0\n",
    "    season_automn = 0\n",
    "elif season == 'summer':\n",
    "    season_winter = 0\n",
    "    season_summer = 1\n",
    "    season_spring = 0\n",
    "    season_automn = 0\n",
    "elif season == 'spring':\n",
    "    season_winter = 0\n",
    "    season_summer = 0\n",
    "    season_spring = 1\n",
    "    season_automn = 0\n",
    "else:\n",
    "    season_winter = 0\n",
    "    season_summer = 0\n",
    "    season_spring = 0\n",
    "    season_automn = 1    "
   ]
  },
  {
   "cell_type": "code",
   "execution_count": 53,
   "id": "b8a5e8f9",
   "metadata": {},
   "outputs": [],
   "source": [
    "Year_SIN = np.sin(Year / Year * 2 * np.pi)\n",
    "Year_COS = np.cos(Year / Year * 2 * np.pi)\n",
    "\n",
    "Month_SIN = np.sin(Month / 12 * 2 * np.pi)\n",
    "Month_COS = np.cos(Month / 12 * 2 * np.pi)\n",
    "\n",
    "Day_SIN = np.sin(Day / 31 * 2 * np.pi)\n",
    "Day_COS = np.cos(Day / 31 * 2 * np.pi)\n",
    "\n",
    "DAY_OF_YEAR_SIN = np.sin(DAY_OF_YEAR / 365 * 2 * np.pi)\n",
    "DAY_OF_YEAR_COS = np.cos(DAY_OF_YEAR / 365 * 2 * np.pi)\n",
    "\n",
    "WEEK_OF_YEAR_SIN = np.sin(WEEK_OF_YEAR / 52 * 2 * np.pi)\n",
    "WEEK_OF_YEAR_COS = np.cos(WEEK_OF_YEAR / 52 * 2 * np.pi)\n",
    "\n",
    "HOUR_SIN = np.sin(HOUR / 24 * 2 * np.pi)\n",
    "HOUR_COS = np.cos(HOUR / 24 * 2 * np.pi)"
   ]
  },
  {
   "cell_type": "code",
   "execution_count": 55,
   "id": "3aa4c561",
   "metadata": {},
   "outputs": [
    {
     "name": "stderr",
     "output_type": "stream",
     "text": [
      "2024-10-29 11:46:41.799 Thread 'MainThread': missing ScriptRunContext! This warning can be ignored when running in bare mode.\n",
      "2024-10-29 11:46:41.812 Thread 'MainThread': missing ScriptRunContext! This warning can be ignored when running in bare mode.\n",
      "2024-10-29 11:46:41.817 Thread 'MainThread': missing ScriptRunContext! This warning can be ignored when running in bare mode.\n",
      "2024-10-29 11:46:41.825 Thread 'MainThread': missing ScriptRunContext! This warning can be ignored when running in bare mode.\n",
      "2024-10-29 11:46:41.828 Thread 'MainThread': missing ScriptRunContext! This warning can be ignored when running in bare mode.\n"
     ]
    }
   ],
   "source": [
    "if st.button('Predict'):\n",
    "    # Create a numpy array from the user input\n",
    "    input_data = np.array([[generation_biomass,generation_fossil_brown_coal_lignite,generation_fossil_gas,\n",
    "                            generation_fossil_hard_coal,generation_fossil_oil,generation_hydro_pumped_storage_consumption,\n",
    "                            generation_hydro_run_of_river_and_poundage, generation_hydro_water_reservoir,\n",
    "                            generation_nuclear, generation_other, generation_other_renewable, generation_solar,\n",
    "                            generation_waste,generation_wind_onshore,total_load_actual,\n",
    "                            temp_Valencia, pressure_Valencia, humidity_Valencia,\n",
    "                            wind_speed_Valencia, wind_deg_Valencia, rain_1h_Valencia,\n",
    "                            snow_3h_Valencia, clouds_all_Valencia, temp_Madrid,\n",
    "                            pressure_Madrid, humidity_Madrid, wind_speed_Madrid,\n",
    "                            wind_deg_Madrid, rain_1h_Madrid, snow_3h_Madrid,\n",
    "                            clouds_all_Madrid, temp_Bilbao, pressure_Bilbao,\n",
    "                            humidity_Bilbao, wind_speed_Bilbao, wind_deg_Bilbao,\n",
    "                            rain_1h_Bilbao, snow_3h_Bilbao, clouds_all_Bilbao, temp_Seville,\n",
    "                            pressure_Seville, humidity_Seville, wind_speed_Seville,\n",
    "                            wind_deg_Seville, rain_1h_Seville, snow_3h_Seville,\n",
    "                            clouds_all_Seville, temp_Barcelona,pressure_Barcelona,\n",
    "                            humidity_Barcelona, wind_speed_Barcelona, wind_deg_Barcelona,\n",
    "                            rain_1h_Barcelona, snow_3h_Barcelona, clouds_all_Barcelona,\n",
    "                            Year, Month_SIN, Month_COS, Day_SIN, Day_COS,\n",
    "                            DAY_OF_YEAR_SIN, DAY_OF_YEAR_COS, WEEK_OF_YEAR_SIN,\n",
    "                            WEEK_OF_YEAR_COS, HOUR_SIN, HOUR_COS, season_automn,\n",
    "                            season_spring, season_summer, season_winter]])\n",
    "    \n",
    "    # Make the prediction\n",
    "    prediction = model.predict(input_data)\n",
    "\n",
    "    # Display the prediction result\n",
    "    st.subheader('Prediction:')\n",
    "    st.write(f'The predicted price of energy is: **{prediction[0]}**')"
   ]
  },
  {
   "cell_type": "code",
   "execution_count": null,
   "id": "ba29dd48",
   "metadata": {},
   "outputs": [],
   "source": []
  }
 ],
 "metadata": {
  "kernelspec": {
   "display_name": "Python 3 (ipykernel)",
   "language": "python",
   "name": "python3"
  },
  "language_info": {
   "codemirror_mode": {
    "name": "ipython",
    "version": 3
   },
   "file_extension": ".py",
   "mimetype": "text/x-python",
   "name": "python",
   "nbconvert_exporter": "python",
   "pygments_lexer": "ipython3",
   "version": "3.9.12"
  }
 },
 "nbformat": 4,
 "nbformat_minor": 5
}
